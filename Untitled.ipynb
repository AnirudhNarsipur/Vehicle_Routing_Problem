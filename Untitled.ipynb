{
 "cells": [
  {
   "cell_type": "code",
   "execution_count": null,
   "id": "6cef6324",
   "metadata": {},
   "outputs": [],
   "source": [
    "using PlotlyJS\n",
    "using GLM\n",
    "using StatsBase\n",
    "using LinearAlgebra"
   ]
  },
  {
   "cell_type": "code",
   "execution_count": null,
   "id": "1b157922",
   "metadata": {},
   "outputs": [],
   "source": [
    "include(\"src/search.jl\")"
   ]
  },
  {
   "cell_type": "code",
   "execution_count": null,
   "id": "85dac173",
   "metadata": {},
   "outputs": [],
   "source": [
    "plot(1:2,1:2, Layout(title=\"Random Data\"))"
   ]
  },
  {
   "cell_type": "code",
   "execution_count": 17,
   "id": "3e7314da",
   "metadata": {},
   "outputs": [
    {
     "data": {
      "text/plain": [
       "16×4 Matrix{Float64}:\n",
       " 1842.0  195.03     264.419     37.1121\n",
       "  200.0   14.58       8.87077    7.46918\n",
       "  200.0   11.4583     5.38422    2.76058\n",
       " 2210.0  109.104    187.315     34.0043\n",
       " 1544.0  145.54     201.369     44.9701\n",
       "   55.0   17.2        7.66439    3.09492\n",
       "  200.0   16.0101     8.50549    1.10723\n",
       "   85.0   16.45       9.66532    2.33062\n",
       "  200.0   18.0       11.6863     1.64718\n",
       "  500.0   46.3831    31.0659    12.6434\n",
       " 4500.0  439.655    610.639    286.937\n",
       "   65.0    7.74805   10.9958     1.03856\n",
       "   60.0   19.95       7.49342    2.79916\n",
       " 2010.0  164.091    258.549     62.1595\n",
       "  160.0   15.54       8.06152    3.69926\n",
       "  180.0   18.1867     7.96053    5.79787"
      ]
     },
     "execution_count": 17,
     "metadata": {},
     "output_type": "execute_result"
    }
   ],
   "source": [
    "out = open(\"stats.txt\",\"r\") do io\n",
    "    lines = readlines(io)\n",
    "    lines = [split(i) for i in lines]\n",
    "    out = zeros(length(lines),4)\n",
    "    for j = 1:length(lines)\n",
    "        i = lines[j]\n",
    "        out[j,:] = [parse(Float64,i[j]) for j in 2:5]\n",
    "    end\n",
    "    out\n",
    "end"
   ]
  },
  {
   "cell_type": "code",
   "execution_count": null,
   "id": "42dcd36e",
   "metadata": {},
   "outputs": [],
   "source": [
    "plot(out[:,3],out[:,4])"
   ]
  },
  {
   "cell_type": "code",
   "execution_count": null,
   "id": "a848e320",
   "metadata": {},
   "outputs": [],
   "source": [
    "A = zeros(16,4)\n",
    "for i=1:16\n",
    "    A[i,:] = push!(out[i,1:3],out[i,3]^2)\n",
    "end\n",
    "Y = out[:,4]"
   ]
  },
  {
   "cell_type": "code",
   "execution_count": null,
   "id": "fcf6af45",
   "metadata": {},
   "outputs": [],
   "source": [
    "w = pinv(transpose(A)*A) * transpose(A) * Y"
   ]
  },
  {
   "cell_type": "code",
   "execution_count": null,
   "id": "a48b3f62",
   "metadata": {},
   "outputs": [],
   "source": [
    "plot(out[:,2])"
   ]
  },
  {
   "cell_type": "code",
   "execution_count": 12,
   "id": "b8264561",
   "metadata": {},
   "outputs": [],
   "source": [
    "using Distributions\n",
    "using LinearAlgebra\n"
   ]
  },
  {
   "cell_type": "code",
   "execution_count": 8,
   "id": "6fe5f215",
   "metadata": {},
   "outputs": [
    {
     "data": {
      "text/plain": [
       "0.24197072451914337"
      ]
     },
     "execution_count": 8,
     "metadata": {},
     "output_type": "execute_result"
    }
   ],
   "source": [
    "pdf(Normal(0,1),1)"
   ]
  },
  {
   "cell_type": "code",
   "execution_count": 14,
   "id": "216b7db2",
   "metadata": {},
   "outputs": [
    {
     "data": {
      "text/plain": [
       "3-element Vector{Float64}:\n",
       " 0.2672612419124244\n",
       " 0.5345224838248488\n",
       " 0.8017837257372732"
      ]
     },
     "execution_count": 14,
     "metadata": {},
     "output_type": "execute_result"
    }
   ],
   "source": [
    "LinearAlgebra.normalize([1,2,3])\n"
   ]
  },
  {
   "cell_type": "code",
   "execution_count": 23,
   "id": "1a6dfd64",
   "metadata": {},
   "outputs": [
    {
     "name": "stdout",
     "output_type": "stream",
     "text": [
      "0.03847011650202085\n",
      "0.05067293538493431\n",
      "0.06539815127150964\n",
      "0.08269737560388819\n",
      "0.10246011305130674\n",
      "0.12438121112197605\n",
      "0.14794203189535057\n",
      "0.17241110066173884\n",
      "0.1968682663582879\n",
      "0.22025362083256658\n",
      "0.24143890000281404\n",
      "0.2593153815895911\n",
      "0.2728890817353021\n",
      "0.28137200739199053\n",
      "0.2842578489658298\n",
      "0.28137200739199053\n",
      "0.2728890817353021\n",
      "0.2593153815895911\n",
      "0.24143890000281404\n",
      "0.22025362083256658\n",
      "0.1968682663582879\n",
      "0.17241110066173884\n",
      "0.14794203189535057\n",
      "0.12438121112197605\n",
      "0.10246011305130674\n",
      "0.08269737560388819\n",
      "0.06539815127150964\n",
      "0.05067293538493431\n",
      "0.03847011650202085\n",
      "0.028615924907200642\n"
     ]
    }
   ],
   "source": [
    "for i in (LinearAlgebra.normalize([pdf(Normal(15,7),i) for i=1:30]))\n",
    "    println(i)\n",
    "end\n"
   ]
  },
  {
   "cell_type": "code",
   "execution_count": 24,
   "id": "77a57fa1",
   "metadata": {},
   "outputs": [
    {
     "data": {
      "text/plain": [
       "0.03333333333333333"
      ]
     },
     "execution_count": 24,
     "metadata": {},
     "output_type": "execute_result"
    }
   ],
   "source": [
    "1/30"
   ]
  },
  {
   "cell_type": "code",
   "execution_count": null,
   "id": "b9553065",
   "metadata": {},
   "outputs": [],
   "source": []
  }
 ],
 "metadata": {
  "@webio": {
   "lastCommId": null,
   "lastKernelId": null
  },
  "kernelspec": {
   "display_name": "Julia 1.7.1",
   "language": "julia",
   "name": "julia-1.7"
  },
  "language_info": {
   "file_extension": ".jl",
   "mimetype": "application/julia",
   "name": "julia",
   "version": "1.7.1"
  }
 },
 "nbformat": 4,
 "nbformat_minor": 5
}
