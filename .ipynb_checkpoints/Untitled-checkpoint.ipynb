{
 "cells": [
  {
   "cell_type": "code",
   "execution_count": 2,
   "id": "6cef6324",
   "metadata": {},
   "outputs": [],
   "source": [
    "using Plots\n",
    "using GLM\n",
    "using StatsBase\n",
    "using LinearAlgebra\n",
    "using Polynomials"
   ]
  },
  {
   "cell_type": "code",
   "execution_count": 3,
   "id": "1b157922",
   "metadata": {},
   "outputs": [
    {
     "data": {
      "text/plain": [
       "mn (generic function with 1 method)"
      ]
     },
     "execution_count": 3,
     "metadata": {},
     "output_type": "execute_result"
    }
   ],
   "source": [
    "include(\"src/search.jl\")"
   ]
  },
  {
   "cell_type": "code",
   "execution_count": 4,
   "id": "e02d8aaf",
   "metadata": {},
   "outputs": [
    {
     "data": {
      "text/plain": [
       "16-element Vector{String}:\n",
       " \"input/101_11_2.vrp\"\n",
       " \"input/101_8_1.vrp\"\n",
       " \"input/121_7_1.vrp\"\n",
       " \"input/135_7_1.vrp\"\n",
       " \"input/151_15_1.vrp\"\n",
       " \"input/16_5_1.vrp\"\n",
       " \"input/200_16_2.vrp\"\n",
       " \"input/21_4_1.vrp\"\n",
       " \"input/241_22_1.vrp\"\n",
       " \"input/262_25_1.vrp\"\n",
       " \"input/30_4_1.vrp\"\n",
       " \"input/386_47_1.vrp\"\n",
       " \"input/41_14_1.vrp\"\n",
       " \"input/45_4_1.vrp\"\n",
       " \"input/51_5_1.vrp\"\n",
       " \"input/76_8_2.vrp\""
      ]
     },
     "execution_count": 4,
     "metadata": {},
     "output_type": "execute_result"
    }
   ],
   "source": [
    "files = \"input/\" .* readdir(\"input/\")"
   ]
  },
  {
   "cell_type": "code",
   "execution_count": 7,
   "id": "30374e3b",
   "metadata": {},
   "outputs": [
    {
     "name": "stdout",
     "output_type": "stream",
     "text": [
      "running input/101_11_2.vrp\n",
      "running input/101_8_1.vrp\n",
      "running input/121_7_1.vrp\n",
      "running input/135_7_1.vrp\n",
      "running input/151_15_1.vrp\n",
      "running input/16_5_1.vrp\n",
      "running input/200_16_2.vrp\n",
      "running input/21_4_1.vrp\n",
      "running input/241_22_1.vrp\n",
      "running input/262_25_1.vrp\n",
      "running input/30_4_1.vrp\n",
      "running input/386_47_1.vrp\n",
      "running input/41_14_1.vrp\n",
      "running input/45_4_1.vrp\n",
      "running input/51_5_1.vrp\n",
      "running input/76_8_2.vrp\n"
     ]
    }
   ],
   "source": [
    "x = []\n",
    "y = []\n",
    "for i in files\n",
    "    println(\"running \",i)\n",
    "    vars = read_input(i)\n",
    "    sol = getInitialSol(vars)\n",
    "    push!(x,vars.customers)\n",
    "    push!(y,runExp(sol,vars))\n",
    "end"
   ]
  },
  {
   "cell_type": "code",
   "execution_count": 12,
   "id": "85b8f6e6",
   "metadata": {},
   "outputs": [
    {
     "ename": "LoadError",
     "evalue": "MethodError: no method matching Plot(::Vector{Any}, ::Vector{Any})\n\u001b[0mClosest candidates are:\n\u001b[0m  Plot(\u001b[91m::AbstractTrace\u001b[39m, ::Any) at ~/.julia/packages/PlotlyBase/xb3Du/src/PlotlyBase.jl:110\n\u001b[0m  Plot(\u001b[91m::AbstractTrace\u001b[39m, ::Any, \u001b[91m::AbstractVector{<:PlotlyFrame}\u001b[39m; config) at ~/.julia/packages/PlotlyBase/xb3Du/src/PlotlyBase.jl:110\n\u001b[0m  Plot(\u001b[91m::AbstractVector{<:AbstractTrace}\u001b[39m, ::Any) at ~/.julia/packages/PlotlyBase/xb3Du/src/PlotlyBase.jl:105\n\u001b[0m  ...",
     "output_type": "error",
     "traceback": [
      "MethodError: no method matching Plot(::Vector{Any}, ::Vector{Any})\n\u001b[0mClosest candidates are:\n\u001b[0m  Plot(\u001b[91m::AbstractTrace\u001b[39m, ::Any) at ~/.julia/packages/PlotlyBase/xb3Du/src/PlotlyBase.jl:110\n\u001b[0m  Plot(\u001b[91m::AbstractTrace\u001b[39m, ::Any, \u001b[91m::AbstractVector{<:PlotlyFrame}\u001b[39m; config) at ~/.julia/packages/PlotlyBase/xb3Du/src/PlotlyBase.jl:110\n\u001b[0m  Plot(\u001b[91m::AbstractVector{<:AbstractTrace}\u001b[39m, ::Any) at ~/.julia/packages/PlotlyBase/xb3Du/src/PlotlyBase.jl:105\n\u001b[0m  ...",
      "",
      "Stacktrace:",
      " [1] plot(::Vector{Any}, ::Vararg{Vector{Any}}; kwargs::Base.Pairs{Symbol, Union{}, Tuple{}, NamedTuple{(), Tuple{}}})",
      "   @ PlotlyJS ~/.julia/packages/PlotlyJS/4jzLr/src/display.jl:153",
      " [2] plot(::Vector{Any}, ::Vararg{Vector{Any}})",
      "   @ PlotlyJS ~/.julia/packages/PlotlyJS/4jzLr/src/display.jl:153",
      " [3] top-level scope",
      "   @ In[12]:1",
      " [4] eval",
      "   @ ./boot.jl:373 [inlined]",
      " [5] include_string(mapexpr::typeof(REPL.softscope), mod::Module, code::String, filename::String)",
      "   @ Base ./loading.jl:1196"
     ]
    }
   ],
   "source": [
    "plot(x,y)"
   ]
  },
  {
   "cell_type": "code",
   "execution_count": null,
   "id": "1220d28f",
   "metadata": {},
   "outputs": [],
   "source": []
  }
 ],
 "metadata": {
  "@webio": {
   "lastCommId": "9c547b549b6048a69a10f29e46c2337a",
   "lastKernelId": "ebc3deb2-0743-4434-a653-757a556baaff"
  },
  "kernelspec": {
   "display_name": "Julia 1.7.1",
   "language": "julia",
   "name": "julia-1.7"
  },
  "language_info": {
   "file_extension": ".jl",
   "mimetype": "application/julia",
   "name": "julia",
   "version": "1.7.1"
  }
 },
 "nbformat": 4,
 "nbformat_minor": 5
}
