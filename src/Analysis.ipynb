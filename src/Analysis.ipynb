{
 "cells": [
  {
   "cell_type": "code",
   "execution_count": 1,
   "id": "c655d394",
   "metadata": {},
   "outputs": [],
   "source": [
    "from scheduler import *\n",
    "from main import *\n",
    "import os"
   ]
  },
  {
   "cell_type": "code",
   "execution_count": 2,
   "id": "91de5e4e",
   "metadata": {},
   "outputs": [
    {
     "name": "stdout",
     "output_type": "stream",
     "text": [
      "Using cp installation at /Applications/CPLEX_Studio129/cpoptimizer/bin/x86-64_osx/cpoptimizer\n"
     ]
    }
   ],
   "source": [
    "os.environ[\"CP_SOLVER_EXEC\"] = \"/Applications/CPLEX_Studio129/cpoptimizer/bin/x86-64_osx/cpoptimizer\"\n",
    "set_context()"
   ]
  },
  {
   "cell_type": "code",
   "execution_count": 3,
   "id": "9dcf533c",
   "metadata": {},
   "outputs": [],
   "source": [
    "def calc_waste(fl):\n",
    "    cfg = Config.load(fl)\n",
    "    sched = Scheduler(cfg)\n",
    "    solution = sched.solve().schedule\n",
    "    numWork = np.zeros(cfg.min_shifts.shape)\n",
    "    numDaily = np.zeros((cfg.n_days))\n",
    "    minDaily = np.full((cfg.n_days),cfg.min_daily)\n",
    "    for worker in solution:\n",
    "        for index in range(len(worker)):\n",
    "            shift = worker[index]\n",
    "            hours = shift[1] - shift[0]\n",
    "            numDaily[index]+=hours\n",
    "            if 0 <= shift[1] <= 8:\n",
    "                numWork[index][1]+=1\n",
    "                continue\n",
    "            elif shift[1] <= 16:\n",
    "                numWork[index][2]+=1\n",
    "                continue\n",
    "            elif  shift[1] <= 24:\n",
    "                numWork[index][3]+=1\n",
    "                continue\n",
    "    sched_score =  (np.mean(numWork[:,1:]/cfg.min_shifts[:,1:])) -1  \n",
    "    h_score =  np.mean(numDaily/minDaily) - 1\n",
    "    return (sched_score * 100,h_score*100)\n"
   ]
  },
  {
   "cell_type": "code",
   "execution_count": 4,
   "id": "a6917c4d",
   "metadata": {},
   "outputs": [
    {
     "name": "stdout",
     "output_type": "stream",
     "text": [
      "Shift Waste for ../input/28_40.sched is 338.3433084772371 and hours waste is 108.65079365079362\n",
      "Shift Waste for ../input/21_50.sched is 548.3068783068784 and hours waste is 115.23809523809523\n",
      "Shift Waste for ../input/14_17.sched is 79.33390022675736 and hours waste is 7.047619047619036\n",
      "Shift Waste for ../input/7_17.sched is 112.02380952380952 and hours waste is 33.33333333333333\n",
      "Shift Waste for ../input/28_27.sched is 172.8032252139395 and hours waste is 25.039682539682538\n",
      "Shift Waste for ../input/14_15.sched is 51.0515873015873 and hours waste is 20.47619047619047\n",
      "Shift Waste for ../input/28_65.sched is 918.373015873016 and hours waste is 0.9873949579831898\n",
      "Shift Waste for ../input/14_14.sched is 86.66666666666667 and hours waste is 5.238095238095242\n",
      "Shift Waste for ../input/7_14.sched is 110.95238095238096 and hours waste is 4.285714285714293\n",
      "Shift Waste for ../input/21_30.sched is 290.95238095238096 and hours waste is 120.15873015873018\n",
      "Shift Waste for ../input/28_50.sched is 592.063492063492 and hours waste is 0.9875541125541121\n",
      "Shift Waste for ../input/14_18.sched is 175.71428571428567 and hours waste is 0.5657708628005631\n",
      "Shift Waste for ../input/21_40.sched is 292.8837432408861 and hours waste is 140.21164021164023\n",
      "Shift Waste for ../input/28_30.sched is 218.17460317460316 and hours waste is 4.761904761904767\n",
      "Shift Waste for ../input/7_20.sched is 223.65079365079364 and hours waste is 0.0\n"
     ]
    }
   ],
   "source": [
    "files = [\"../input/\" + i for i in os.listdir(\"../input/\")]\n",
    "for file in files:\n",
    "    res = calc_waste(file)\n",
    "    print(f\"Shift Waste for {file} is {res[0]} and hours waste is {res[1]}\")"
   ]
  },
  {
   "cell_type": "code",
   "execution_count": 8,
   "id": "5640751f",
   "metadata": {},
   "outputs": [],
   "source": [
    "    cfg = Config.load(\"../input/21_30.sched\")\n",
    "    sched = Scheduler(cfg)\n",
    "    solution = sched.solve().schedule"
   ]
  },
  {
   "cell_type": "code",
   "execution_count": 11,
   "id": "1e085446",
   "metadata": {},
   "outputs": [
    {
     "data": {
      "text/plain": [
       "array([28.66666667, 33.        , 29.33333333, 32.66666667, 34.66666667,\n",
       "       28.66666667, 32.        , 27.33333333, 31.        , 31.33333333,\n",
       "       34.        , 29.        , 36.33333333, 35.        , 30.66666667,\n",
       "       37.66666667, 31.33333333, 31.        , 28.        , 26.66666667,\n",
       "       30.33333333, 22.66666667, 27.33333333, 29.        , 33.33333333,\n",
       "       32.        , 30.66666667, 32.66666667, 27.66666667, 30.66666667])"
      ]
     },
     "execution_count": 11,
     "metadata": {},
     "output_type": "execute_result"
    }
   ],
   "source": [
    "np.array([sum([i[1] - i[0] for i in j]) for j in solution])/3"
   ]
  },
  {
   "cell_type": "code",
   "execution_count": 10,
   "id": "2b2a6a19",
   "metadata": {},
   "outputs": [
    {
     "data": {
      "text/plain": [
       "Config(n_weeks=3, n_days=21, n_days_in_week=7, n_employees=30, n_shifts=4, n_intervals_in_day=24, min_shifts=array([[0, 1, 3, 2],\n",
       "       [0, 1, 3, 2],\n",
       "       [0, 1, 3, 2],\n",
       "       [0, 1, 5, 2],\n",
       "       [0, 1, 5, 2],\n",
       "       [0, 1, 5, 2],\n",
       "       [0, 1, 5, 2],\n",
       "       [0, 1, 5, 2],\n",
       "       [0, 1, 5, 2],\n",
       "       [0, 1, 5, 2],\n",
       "       [0, 1, 5, 2],\n",
       "       [0, 1, 5, 2],\n",
       "       [0, 1, 5, 2],\n",
       "       [0, 1, 5, 2],\n",
       "       [0, 1, 3, 2],\n",
       "       [0, 1, 3, 2],\n",
       "       [0, 1, 3, 2],\n",
       "       [0, 1, 5, 2],\n",
       "       [0, 1, 5, 2],\n",
       "       [0, 1, 5, 2],\n",
       "       [0, 1, 5, 2]]), min_daily=60, employee_min_daily=4, employee_max_daily=8, employee_min_weekly=20, employee_max_weekly=40, employee_max_consecutive_night_shifts=1, employee_max_total_night_shifts=2)"
      ]
     },
     "execution_count": 10,
     "metadata": {},
     "output_type": "execute_result"
    }
   ],
   "source": [
    "cfg"
   ]
  },
  {
   "cell_type": "code",
   "execution_count": null,
   "id": "cd6f9065",
   "metadata": {},
   "outputs": [],
   "source": []
  }
 ],
 "metadata": {
  "kernelspec": {
   "display_name": "Python 3 (ipykernel)",
   "language": "python",
   "name": "python3"
  },
  "language_info": {
   "codemirror_mode": {
    "name": "ipython",
    "version": 3
   },
   "file_extension": ".py",
   "mimetype": "text/x-python",
   "name": "python",
   "nbconvert_exporter": "python",
   "pygments_lexer": "ipython3",
   "version": "3.9.7"
  }
 },
 "nbformat": 4,
 "nbformat_minor": 5
}
